{
 "cells": [
  {
   "cell_type": "code",
   "execution_count": 1,
   "metadata": {},
   "outputs": [],
   "source": [
    "import numpy as np\n",
    "import cv2\n",
    "import math"
   ]
  },
  {
   "cell_type": "code",
   "execution_count": null,
   "metadata": {},
   "outputs": [],
   "source": [
    "front_img = cv2.imread('images/front.jpg', cv2.IMREAD_COLOR)\n",
    "left_img = cv2.imread('images/left.jpg', cv2.IMREAD_COLOR)\n",
    "right_img = cv2.imread('images/right.jpg', cv2.IMREAD_COLOR)\n",
    "rear_img = cv2.imread('images/rear.jpg', cv2.IMREAD_COLOR)\n",
    "car_img = cv2.imread('images/car.png', cv2.IMREAD_COLOR)\n",
    "car_img = cv2.rotate(car_img, cv2.ROTATE_180)\n",
    "# print(front_img.shape)"
   ]
  },
  {
   "cell_type": "code",
   "execution_count": 2,
   "metadata": {},
   "outputs": [],
   "source": [
    "# find lane using hsv\n",
    "def hsv(img, color='green'):\n",
    "    hsv = cv2.cvtColor(img, cv2.COLOR_RGB2HSV)\n",
    "\n",
    "    if color == 'green':\n",
    "        mask = cv2.inRange(hsv, (25, 60, 50), (86, 255, 255))\n",
    "    elif color == 'red':\n",
    "        mask = cv2.inRange(hsv, (115, 100, 50), (130, 255, 255))\n",
    "    elif color == 'blue':\n",
    "        mask = cv2.inRange(hsv, (10, 150, 50), (30, 255, 255))\n",
    "    elif color == 'yellow':\n",
    "        mask = cv2.inRange(hsv, (80, 40, 145), (150, 255, 255))\n",
    "        # mask = cv2.inRange(hsv, (80, 100, 145), (150, 255, 255))\n",
    "\n",
    "    imask = mask > 0\n",
    "    output = np.zeros_like(hsv, np.uint8)\n",
    "    output[imask] = 255\n",
    "\n",
    "    return output[:,:,0]\n"
   ]
  },
  {
   "cell_type": "code",
   "execution_count": 5,
   "metadata": {},
   "outputs": [],
   "source": [
    "def image_clean(input):\n",
    "    H, W = input.shape[:2]\n",
    "\n",
    "    # using morphology\n",
    "    kernel = cv2.getStructuringElement(cv2.MORPH_ELLIPSE, (9,9))\n",
    "    clean = cv2.morphologyEx(input, cv2.MORPH_OPEN, kernel)\n",
    "    kernel = cv2.getStructuringElement(cv2.MORPH_ELLIPSE, (15,15))\n",
    "    img_clean = cv2.morphologyEx(clean, cv2.MORPH_CLOSE, kernel)\n",
    "    \n",
    "    return img_clean"
   ]
  },
  {
   "cell_type": "code",
   "execution_count": null,
   "metadata": {},
   "outputs": [],
   "source": []
  }
 ],
 "metadata": {
  "kernelspec": {
   "display_name": "Python 3.7.13 ('base')",
   "language": "python",
   "name": "python3"
  },
  "language_info": {
   "codemirror_mode": {
    "name": "ipython",
    "version": 3
   },
   "file_extension": ".py",
   "mimetype": "text/x-python",
   "name": "python",
   "nbconvert_exporter": "python",
   "pygments_lexer": "ipython3",
   "version": "3.7.13"
  },
  "orig_nbformat": 4,
  "vscode": {
   "interpreter": {
    "hash": "d4d1e4263499bec80672ea0156c357c1ee493ec2b1c70f0acce89fc37c4a6abe"
   }
  }
 },
 "nbformat": 4,
 "nbformat_minor": 2
}
