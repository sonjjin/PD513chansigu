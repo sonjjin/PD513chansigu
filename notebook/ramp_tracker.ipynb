{
 "cells": [
  {
   "cell_type": "code",
   "execution_count": 1,
   "metadata": {},
   "outputs": [],
   "source": [
    "import numpy as np\n",
    "import cv2\n",
    "import os\n",
    "import matplotlib.pyplot as plt\n"
   ]
  },
  {
   "cell_type": "code",
   "execution_count": 2,
   "metadata": {},
   "outputs": [],
   "source": [
    "# read seq\n",
    "root_path = '../seq/'\n",
    "front_path = os.path.join(root_path, 'front')\n",
    "left_path = os.path.join(root_path, 'left')\n",
    "right_path = os.path.join(root_path, 'right')\n",
    "\n",
    "seq_list = os.listdir(front_path)\n",
    "seq_list.sort()"
   ]
  },
  {
   "cell_type": "markdown",
   "metadata": {},
   "source": [
    "Image wrapping"
   ]
  },
  {
   "cell_type": "code",
   "execution_count": 3,
   "metadata": {},
   "outputs": [],
   "source": [
    "forward_src = np.float32([\n",
    "            (125, 180),\n",
    "            (0, 440),\n",
    "            (500, 180),\n",
    "            (640, 440)\n",
    "        ])\n",
    "\n",
    "left_src = np.float32([\n",
    "            (100, 45),\n",
    "            (5,415),\n",
    "            (510, 45),\n",
    "            (620, 410)\n",
    "        ])\n",
    "\n",
    "right_src = np.float32([\n",
    "            (100, 45),\n",
    "            (5,415),\n",
    "            (510, 45),\n",
    "            (620, 410)\n",
    "        ])\n",
    "\n",
    "forward_dst = np.float32([\n",
    "            (150, 90),\n",
    "            (170, 440),\n",
    "            (560, 90),\n",
    "            (470, 445)\n",
    "        ])    \n",
    "\n",
    "left_dst = np.float32([\n",
    "            (140, 60),\n",
    "            (140, 460),\n",
    "            (480, 65),\n",
    "            (480, 445)\n",
    "        ])\n",
    "        \n",
    "right_dst = np.float32([\n",
    "            (140, 60),\n",
    "            (140, 450),\n",
    "            (480, 65),\n",
    "            (480, 460)\n",
    "        ])\n",
    "\n",
    "def front(img):\n",
    "    IMAGE_H, IMAGE_W, _ = img.shape\n",
    "    \n",
    "    src = forward_src#np.float32([[249, 399], [549, 399], [289, 0], [509, 0]])\n",
    "    dst = forward_dst#np.float32([[279, 399], [519, 399], [0, 0], [799, 0]])\n",
    "    M = cv2.getPerspectiveTransform(src, dst) # The transformation matrix\n",
    "    Minv = cv2.getPerspectiveTransform(dst, src) # Inverse transformation\n",
    "\n",
    "    warped_img = cv2.warpPerspective(img, M, (IMAGE_W, IMAGE_H))#[:300] # Image warping\n",
    "    output = warped_img[90:,:-10]\n",
    "    return output#cv2.resize(warped_img[200:,100:-100], dsize=(800, 400),interpolation=cv2.INTER_LINEAR)#warped_img\n",
    "\n",
    "def side_left(img):\n",
    "    IMAGE_H, IMAGE_W, _ = img.shape\n",
    "\n",
    "    src = left_src\n",
    "    dst = left_dst\n",
    "    M = cv2.getPerspectiveTransform(src, dst) # The transformation matrix\n",
    "    Minv = cv2.getPerspectiveTransform(dst, src) # Inverse transformation.mkv\n",
    "    \n",
    "    warped_img = cv2.warpPerspective(img, M, (IMAGE_W, IMAGE_H)) # Image warping\n",
    "    output = warped_img[90:,:]\n",
    "    # output[left_shift:,:] = output[:-left_shift,:]\n",
    "    output = cv2.rotate(output, cv2.ROTATE_90_COUNTERCLOCKWISE)#[:,:350]\n",
    "    # warped_img = cv2.warpPerspective(img, M, (IMAGE_H, IMAGE_W)) # Image warping\n",
    "    \n",
    "    return output\n",
    "    \n",
    "def side_right(img):\n",
    "    \n",
    "    IMAGE_H, IMAGE_W, _ = img.shape\n",
    "\n",
    "    src = right_src\n",
    "    dst = right_dst\n",
    "    M = cv2.getPerspectiveTransform(src, dst) # The transformation matrix\n",
    "    Minv = cv2.getPerspectiveTransform(dst, src) # Inverse transformation.mkv\n",
    "\n",
    "    warped_img = cv2.warpPerspective(img, M, (IMAGE_W, IMAGE_H)) # Image warping\n",
    "    output = warped_img[90:,:]\n",
    "    output = cv2.rotate(output, cv2.ROTATE_90_CLOCKWISE)#[:,:350]\n",
    "    # warped_img = cv2.warpPerspective(img, M, (IMAGE_H, IMAGE_W)) # Image warping\n",
    "    return output"
   ]
  },
  {
   "cell_type": "code",
   "execution_count": 138,
   "metadata": {},
   "outputs": [],
   "source": [
    "def image_clean(input):\n",
    "    H, W = input.shape[:2]\n",
    "    # using morphology\n",
    "    kernel = cv2.getStructuringElement(cv2.MORPH_ELLIPSE, (9,9))\n",
    "    clean = cv2.morphologyEx(input, cv2.MORPH_OPEN, kernel)\n",
    "    kernel = cv2.getStructuringElement(cv2.MORPH_ELLIPSE, (15,15))\n",
    "    img_clean = cv2.morphologyEx(clean, cv2.MORPH_CLOSE, kernel)\n",
    "    \n",
    "    return img_clean\n",
    "\n",
    "def hsv(img, color='yellow'):\n",
    "\n",
    "    hsv = cv2.cvtColor(img, cv2.COLOR_RGB2HSV)\n",
    "    hls = cv2.cvtColor(img, cv2.COLOR_RGB2HLS)\n",
    "\n",
    "    if color == 'green':\n",
    "        mask = cv2.inRange(hsv, (25, 60, 50), (86, 255, 255))\n",
    "    elif color == 'red':\n",
    "        mask = cv2.inRange(hsv, (115, 100, 50), (130, 255, 255))\n",
    "    elif color == 'blue':\n",
    "        mask = cv2.inRange(hsv, (10, 150, 50), (30, 255, 255))\n",
    "    elif color == 'yellow':\n",
    "        mask = cv2.inRange(hsv, (40, 60, 80), (160, 255, 255))\n",
    "    elif color == 'black':\n",
    "        mask = cv2.inRange(hls, (0, 0, 0), (180, 100, 255))\n",
    "    \n",
    "    imask = mask > 0\n",
    "    temp = np.zeros_like(hsv, np.uint8)\n",
    "    temp[imask] = 255    \n",
    "    output = image_clean(temp[:,:,0])\n",
    "    # plt.imshow(cv2.cvtColor(output, cv2.COLOR_BGR2RGB))\n",
    "\n",
    "    return output"
   ]
  },
  {
   "cell_type": "code",
   "execution_count": null,
   "metadata": {},
   "outputs": [],
   "source": []
  },
  {
   "cell_type": "code",
   "execution_count": 174,
   "metadata": {},
   "outputs": [],
   "source": [
    "img_f = cv2.imread(os.path.join(front_path, seq_list[0]))\n",
    "img_l = cv2.imread(os.path.join(left_path, seq_list[0]))\n",
    "img_r = cv2.imread(os.path.join(right_path, seq_list[0]))\n",
    "\n",
    "# plt.imshow(cv2.cvtColor(img_f, cv2.COLOR_BGR2RGB))\n",
    "img_ft = front(img_f)\n",
    "img_lt = side_left(img_l)\n",
    "img_rt = side_right(img_r)\n",
    "\n",
    "img_ft_hsv = hsv(img_ft)\n",
    "img_lt_hsv = hsv(img_lt)\n",
    "img_rt_hsv = hsv(img_rt)\n",
    "\n",
    "# img_ft_black = hsv(img_f, color = 'black')\n",
    "\n",
    "# plt.imshow(cv2.cvtColor(img_ft, cv2.COLOR_BGR2RGB))\n",
    "#\n",
    "# plt.imshow(cv2.cvtColor(img_ft_black, cv2.COLOR_BGR2RGB))\n",
    "# plt.imshow(cv2.cvtColor(img_ft_hsv, cv2.COLOR_BGR2RGB))\n",
    "img_out = cv2.cvtColor(img_ft_hsv, cv2.COLOR_BGR2RGB)\n",
    "img_out_bi = img_ft_hsv"
   ]
  },
  {
   "cell_type": "code",
   "execution_count": 175,
   "metadata": {},
   "outputs": [
    {
     "name": "stdout",
     "output_type": "stream",
     "text": [
      "142 315\n"
     ]
    },
    {
     "data": {
      "text/plain": [
       "<matplotlib.image.AxesImage at 0x7fb7444c53d0>"
      ]
     },
     "execution_count": 175,
     "metadata": {},
     "output_type": "execute_result"
    },
    {
     "data": {
      "image/png": "[encoded data removed]",
      "text/plain": [
       "<Figure size 640x480 with 1 Axes>"
      ]
     },
     "metadata": {},
     "output_type": "display_data"
    }
   ],
   "source": [
    "\n",
    "# img_out = img_ft_hsv\n",
    "# print(type(img_warped_croped))\n",
    "# HYPERPARAMETERS\n",
    "# Choose the number of sliding windows\n",
    "nwindows = 10\n",
    "\n",
    "# Set the width of the windows +/- margin\n",
    "margin = 50\n",
    "\n",
    "# Set minimum number of pixels found to recenter window\n",
    "minpix = 50\n",
    "\n",
    "# Set height of windows - based on nwindows above and image shape\n",
    "window_height = np.int64(img_out.shape[0]//nwindows)\n",
    "\n",
    "\n",
    "# Take a histogram of the bottom half of the image\n",
    "# histogram = np.sum(img_out[img_out.shape[0]-window_height:img_out.shape[0],:], axis=0)\n",
    "histogram = np.sum(img_out_bi, axis=0)\n",
    "\n",
    "# find lane\n",
    "midpoint = np.int64(histogram.shape[0]//2)\n",
    "leftx_base = np.argmax(histogram[:midpoint])\n",
    "rightx_base = np.argmax(histogram[midpoint:]) + midpoint\n",
    "print(leftx_base, midpoint)\n",
    "\n",
    "# find nonzero value in out_img\n",
    "nonzero = img_out.nonzero()\n",
    "nonzeroy = np.array(nonzero[0])\n",
    "nonzerox = np.array(nonzero[1])\n",
    "\n",
    "# Current positions to be updated later for each window in nwindows\n",
    "leftx_current = leftx_base\n",
    "rightx_current = rightx_base\n",
    "\n",
    "# Create empty lists to receive left and right lane pixel indices\n",
    "left_lane_inds = []\n",
    "right_lane_inds = []\n",
    "\n",
    "# Step through the windows one by one\n",
    "# for window in range(nwindows):\n",
    "for window in range(nwindows):\n",
    "    # Identify window boundaries in x and y (and right and left)\n",
    "    win_y_low = img_out.shape[0] - (window+1)*window_height\n",
    "    win_y_high = img_out.shape[0] - window*window_height\n",
    "    # print(win_y_low, win_y_high)\n",
    "    ### TO-DO: Find the four below boundaries of the window ###\n",
    "    win_xleft_low = leftx_current - margin  # Update this\n",
    "    win_xleft_high = leftx_current + margin  # Update this\n",
    "    win_xright_low = rightx_current - margin  # Update this\n",
    "    win_xright_high = rightx_current + margin  # Update this\n",
    "    # print(leftx_current, rightx_current)\n",
    "    # print(win_xleft_low, win_xleft_high)\n",
    "    # print(win_xright_low, win_xright_high)\n",
    "\n",
    "\n",
    "    # Draw the windows on the visualization image\n",
    "    cv2.rectangle(img_out,(win_xleft_low, win_y_low),(win_xleft_high, win_y_high),(0,255,0), 2) \n",
    "    cv2.rectangle(img_out,(win_xright_low,win_y_low),(win_xright_high,win_y_high),(0,255,0), 2) \n",
    "    # plt.imshow(xx)\n",
    "    ### TO-DO: Identify the nonzero pixels in x and y within the window ###\n",
    "    good_left_inds = ((nonzerox >= win_xleft_low) & (nonzerox < win_xleft_high) & (nonzeroy >= win_y_low) & (nonzeroy < win_y_high)).nonzero()[0]\n",
    "    good_right_inds = ((nonzerox >= win_xright_low) & (nonzerox < win_xright_high) & (nonzeroy >= win_y_low) & (nonzeroy < win_y_high)).nonzero()[0]\n",
    "    # Append these indices to the lists\n",
    "    left_lane_inds.append(good_left_inds)\n",
    "    right_lane_inds.append(good_right_inds)\n",
    "\n",
    "    ### TO-DO: If you found > minpix pixels, recenter next window ###\n",
    "    ### (`right` or `leftx_current`) on their peak histogram ###\n",
    "    if(len(good_left_inds) > minpix):\n",
    "        leftx_current = np.int64(np.mean(nonzerox[good_left_inds]))\n",
    "    if(len(good_right_inds) > minpix):\n",
    "        rightx_current = np.int64(np.mean(nonzerox[good_right_inds]))\n",
    "\n",
    "# plt.figure(figsize = (24, 9))\n",
    "# img_out = cv2.cvtColor(img_out, cv2.COLOR_BGR2RGB)\n",
    "plt.imshow(img_out)"
   ]
  },
  {
   "cell_type": "code",
   "execution_count": 176,
   "metadata": {},
   "outputs": [],
   "source": [
    "left_lane_inds = np.concatenate(left_lane_inds)\n",
    "right_lane_inds = np.concatenate(right_lane_inds)\n",
    "img_out\n",
    "# Extract left and right line pixel positions\n",
    "leftx = nonzerox[left_lane_inds]\n",
    "lefty = nonzeroy[left_lane_inds] \n",
    "rightx = nonzerox[right_lane_inds]\n",
    "righty = nonzeroy[right_lane_inds]\n",
    "### TO-DO: Fit a second order polynomial to each using `np.polyfit` ###\n",
    "left_fit = np.polyfit(lefty, leftx, 2)\n",
    "right_fit = np.polyfit(righty, rightx, 2)\n",
    "\n",
    "# Generate x and y values for plotting\n",
    "ploty = np.linspace(0, img_out.shape[0]-1, img_out.shape[0] )\n",
    "# print(ploty)\n",
    "try:\n",
    "    left_fitx = left_fit[0]*ploty**2 + left_fit[1]*ploty + left_fit[2]\n",
    "    right_fitx = right_fit[0]*ploty**2 + right_fit[1]*ploty + right_fit[2]\n",
    "except TypeError:\n",
    "    # Avoids an error if `left` and `right_fit` are still none or incorrect\n",
    "    print('The function failed to fit a line!')\n",
    "    left_fitx = 1*ploty**2 + 1*ploty\n",
    "    right_fitx = 1*ploty**2 + 1*ploty\n",
    "\n",
    "## Visualization ##\n",
    "# Colors in the left and right lane regions\n",
    "img_out[lefty, leftx] = [255, 0, 0]\n",
    "img_out[righty, rightx] = [0, 0, 255]\n",
    "\n",
    "# Plots the left and right polynomials on the lane lines\n",
    "# plt.plot(left_fitx, ploty, color='yellow')\n",
    "# plt.plot(right_fitx, ploty, color='yellow')"
   ]
  },
  {
   "cell_type": "code",
   "execution_count": 177,
   "metadata": {},
   "outputs": [
    {
     "data": {
      "text/plain": [
       "<matplotlib.image.AxesImage at 0x7fb744489310>"
      ]
     },
     "execution_count": 177,
     "metadata": {},
     "output_type": "execute_result"
    },
    {
     "data": {
      "image/png": "[encoded data removed]",
      "text/plain": [
       "<Figure size 640x480 with 1 Axes>"
      ]
     },
     "metadata": {},
     "output_type": "display_data"
    }
   ],
   "source": [
    "img_out[lefty, leftx] = [255, 0, 0]\n",
    "img_out[righty, rightx] = [0, 0, 255]\n",
    "\n",
    "plt.plot(left_fitx, ploty, color='yellow')\n",
    "plt.plot(right_fitx, ploty, color='yellow')\n",
    "plt.imshow(img_out)"
   ]
  },
  {
   "cell_type": "code",
   "execution_count": 172,
   "metadata": {},
   "outputs": [],
   "source": []
  },
  {
   "cell_type": "code",
   "execution_count": 173,
   "metadata": {},
   "outputs": [
    {
     "ename": "ValueError",
     "evalue": "shape mismatch: value array of shape (3,) could not be broadcast to indexing result of shape (2185,9)",
     "output_type": "error",
     "traceback": [
      "\u001b[0;31m---------------------------------------------------------------------------\u001b[0m",
      "\u001b[0;31mValueError\u001b[0m                                Traceback (most recent call last)",
      "\u001b[0;32m/tmp/ipykernel_29538/283152635.py\u001b[0m in \u001b[0;36m<module>\u001b[0;34m\u001b[0m\n\u001b[1;32m      1\u001b[0m \u001b[0;31m# Run image through the pipeline\u001b[0m\u001b[0;34m\u001b[0m\u001b[0;34m\u001b[0m\u001b[0;34m\u001b[0m\u001b[0m\n\u001b[1;32m      2\u001b[0m \u001b[0;31m# Note that in your project, you'll also want to feed in the previous fits\u001b[0m\u001b[0;34m\u001b[0m\u001b[0;34m\u001b[0m\u001b[0;34m\u001b[0m\u001b[0m\n\u001b[0;32m----> 3\u001b[0;31m \u001b[0mresult\u001b[0m\u001b[0;34m,\u001b[0m \u001b[0mleft_fit_refined\u001b[0m\u001b[0;34m,\u001b[0m \u001b[0mright_fit_refined\u001b[0m\u001b[0;34m,\u001b[0m \u001b[0mleft_fitx\u001b[0m\u001b[0;34m,\u001b[0m \u001b[0mright_fitx\u001b[0m\u001b[0;34m,\u001b[0m \u001b[0mploty\u001b[0m \u001b[0;34m=\u001b[0m \u001b[0msearch_around_poly\u001b[0m\u001b[0;34m(\u001b[0m\u001b[0mimg_out\u001b[0m\u001b[0;34m,\u001b[0m \u001b[0mleft_fit\u001b[0m\u001b[0;34m,\u001b[0m \u001b[0mright_fit\u001b[0m\u001b[0;34m)\u001b[0m\u001b[0;34m\u001b[0m\u001b[0;34m\u001b[0m\u001b[0m\n\u001b[0m\u001b[1;32m      4\u001b[0m \u001b[0;34m\u001b[0m\u001b[0m\n\u001b[1;32m      5\u001b[0m \u001b[0;31m# View your output\u001b[0m\u001b[0;34m\u001b[0m\u001b[0;34m\u001b[0m\u001b[0;34m\u001b[0m\u001b[0m\n",
      "\u001b[0;32m/tmp/ipykernel_29538/3848839229.py\u001b[0m in \u001b[0;36msearch_around_poly\u001b[0;34m(binary_warped, left_fit, right_fit)\u001b[0m\n\u001b[1;32m     44\u001b[0m     \u001b[0mwindow_img\u001b[0m \u001b[0;34m=\u001b[0m \u001b[0mnp\u001b[0m\u001b[0;34m.\u001b[0m\u001b[0mzeros_like\u001b[0m\u001b[0;34m(\u001b[0m\u001b[0mout_img\u001b[0m\u001b[0;34m)\u001b[0m\u001b[0;34m\u001b[0m\u001b[0;34m\u001b[0m\u001b[0m\n\u001b[1;32m     45\u001b[0m     \u001b[0;31m# Color in left and right line pixels\u001b[0m\u001b[0;34m\u001b[0m\u001b[0;34m\u001b[0m\u001b[0;34m\u001b[0m\u001b[0m\n\u001b[0;32m---> 46\u001b[0;31m     \u001b[0mout_img\u001b[0m\u001b[0;34m[\u001b[0m\u001b[0mnonzeroy\u001b[0m\u001b[0;34m[\u001b[0m\u001b[0mleft_lane_inds\u001b[0m\u001b[0;34m]\u001b[0m\u001b[0;34m,\u001b[0m \u001b[0mnonzerox\u001b[0m\u001b[0;34m[\u001b[0m\u001b[0mleft_lane_inds\u001b[0m\u001b[0;34m]\u001b[0m\u001b[0;34m]\u001b[0m \u001b[0;34m=\u001b[0m \u001b[0;34m[\u001b[0m\u001b[0;36m255\u001b[0m\u001b[0;34m,\u001b[0m \u001b[0;36m0\u001b[0m\u001b[0;34m,\u001b[0m \u001b[0;36m0\u001b[0m\u001b[0;34m]\u001b[0m\u001b[0;34m\u001b[0m\u001b[0;34m\u001b[0m\u001b[0m\n\u001b[0m\u001b[1;32m     47\u001b[0m     \u001b[0mout_img\u001b[0m\u001b[0;34m[\u001b[0m\u001b[0mnonzeroy\u001b[0m\u001b[0;34m[\u001b[0m\u001b[0mright_lane_inds\u001b[0m\u001b[0;34m]\u001b[0m\u001b[0;34m,\u001b[0m \u001b[0mnonzerox\u001b[0m\u001b[0;34m[\u001b[0m\u001b[0mright_lane_inds\u001b[0m\u001b[0;34m]\u001b[0m\u001b[0;34m]\u001b[0m \u001b[0;34m=\u001b[0m \u001b[0;34m[\u001b[0m\u001b[0;36m0\u001b[0m\u001b[0;34m,\u001b[0m \u001b[0;36m0\u001b[0m\u001b[0;34m,\u001b[0m \u001b[0;36m255\u001b[0m\u001b[0;34m]\u001b[0m\u001b[0;34m\u001b[0m\u001b[0;34m\u001b[0m\u001b[0m\n\u001b[1;32m     48\u001b[0m \u001b[0;34m\u001b[0m\u001b[0m\n",
      "\u001b[0;31mValueError\u001b[0m: shape mismatch: value array of shape (3,) could not be broadcast to indexing result of shape (2185,9)"
     ]
    }
   ],
   "source": []
  },
  {
   "cell_type": "code",
   "execution_count": null,
   "metadata": {},
   "outputs": [],
   "source": []
  }
 ],
 "metadata": {
  "kernelspec": {
   "display_name": "Python 3.7.13 ('base')",
   "language": "python",
   "name": "python3"
  },
  "language_info": {
   "codemirror_mode": {
    "name": "ipython",
    "version": 3
   },
   "file_extension": ".py",
   "mimetype": "text/x-python",
   "name": "python",
   "nbconvert_exporter": "python",
   "pygments_lexer": "ipython3",
   "version": "3.7.13"
  },
  "orig_nbformat": 4,
  "vscode": {
   "interpreter": {
    "hash": "d4d1e4263499bec80672ea0156c357c1ee493ec2b1c70f0acce89fc37c4a6abe"
   }
  }
 },
 "nbformat": 4,
 "nbformat_minor": 2
}
